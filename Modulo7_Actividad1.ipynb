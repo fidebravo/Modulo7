{
 "cells": [
  {
   "cell_type": "markdown",
   "metadata": {},
   "source": [
    "# Módulo 7 Actividad 1\n",
    "\n",
    "## Intención del aprendizaje esperado:\n",
    "\n",
    "## 1. Describir los conceptos fundamentales las redes neuronales y su utilidad para la resolución de problemas de aprendizaje de máquina.**\n",
    "\n",
    "**1. Defina lo siguiente:**\n",
    "\n",
    "***a. Inteligencia Artificial***\n",
    "\n",
    "*- Podríamos definir Inteligencia Artificial como la habilidad de las máquinas de imitar el comportamiento de la inteligencia humana esto implica que mediante técnicas computacionales podemos crear programas que resuelvan y se ocupen de tareas que eran o han sido propias del ser humano y es la gran área que engloba otros conceptos relativos a la AI* \n",
    "\n",
    "***b. Machine learning***\n",
    "\n",
    "*- Machine Learning se refiere a un área o metodología de la inteligencia artificial donde mediante algoritmos podemos entrenar máquinas para que aprendan a predecir o clasificar nuevas entradas a partir de datos previamente entregados.*\n",
    "\n",
    "***c. Deep learning***\n",
    "\n",
    "*- Deep Learning es un subconjunto de técnicas y aplicaciones de Machine Learning que nos permiten crear redes neuronales que intentan imitar el comportamiento del cerebro humano para la resolución de problemas de predicción o clasificación a través del aprendizaje automático.*"
   ]
  },
  {
   "cell_type": "markdown",
   "metadata": {},
   "source": [
    "**2. Explique en no más de 5 líneas el concepto de red neuronal para alguien que no usa ciencia de datos en su vida, dicho de otro modo, explique el concepto anterior en términos simples.**"
   ]
  },
  {
   "cell_type": "markdown",
   "metadata": {},
   "source": [
    "Red Neuronal es un concepto usado en Inteligencia Artificial para referirse a un tipo de método que se basa en la simulación y estructura del cerebro humano para procesar información mediante un complejo sistema de nodos interconectados que la reciben y la procesan para entregar un resultado.  Los nodos son denominados neuronas artificiales y pueden ser parametrizados de tal manera de optimizar las respuestas lo que además posibilita al mecanismo a aprender y adaptarse a la información de entrada."
   ]
  },
  {
   "cell_type": "markdown",
   "metadata": {},
   "source": []
  }
 ],
 "metadata": {
  "language_info": {
   "name": "python"
  }
 },
 "nbformat": 4,
 "nbformat_minor": 2
}
